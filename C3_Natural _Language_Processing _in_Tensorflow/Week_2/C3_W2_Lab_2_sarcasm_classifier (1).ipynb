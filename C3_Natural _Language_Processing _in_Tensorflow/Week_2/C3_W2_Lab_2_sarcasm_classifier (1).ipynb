{
  "cells": [
    {
      "cell_type": "markdown",
      "metadata": {
        "id": "aNy3p9cRdEh_"
      },
      "source": [
        "<a href=\"https://colab.research.google.com/github/https-deeplearning-ai/tensorflow-1-public/blob/master/C3/W2/ungraded_labs/C3_W2_Lab_2_sarcasm_classifier.ipynb\" target=\"_parent\"><img src=\"https://colab.research.google.com/assets/colab-badge.svg\" alt=\"Open In Colab\"/></a>"
      ]
    },
    {
      "cell_type": "markdown",
      "metadata": {
        "id": "ZfVtdwryvvP6"
      },
      "source": [
        "# Ungraded Lab: Training a binary classifier with the Sarcasm Dataset\n",
        "\n",
        "In this lab, you will revisit the [News Headlines Dataset for Sarcasm Detection](https://www.kaggle.com/rmisra/news-headlines-dataset-for-sarcasm-detection/home) from last week and proceed to build a train a model on it. The steps will be very similar to the previous lab with IMDB Reviews with just some minor modifications. You can tweak the hyperparameters and see how it affects the results. Let's begin!"
      ]
    },
    {
      "cell_type": "markdown",
      "metadata": {
        "id": "aWIM6gplHqfx"
      },
      "source": [
        "## Download the dataset\n",
        "\n",
        "You will first download the JSON file, load it into your workspace and put the sentences and labels into lists."
      ]
    },
    {
      "cell_type": "code",
      "execution_count": null,
      "metadata": {
        "id": "BQVuQrZNkPn9",
        "colab": {
          "base_uri": "https://localhost:8080/"
        },
        "outputId": "2b21b791-4202-432b-c461-31e30ffd606c"
      },
      "outputs": [
        {
          "output_type": "stream",
          "name": "stdout",
          "text": [
            "--2024-07-17 02:32:27--  https://storage.googleapis.com/tensorflow-1-public/course3/sarcasm.json\n",
            "Resolving storage.googleapis.com (storage.googleapis.com)... 142.250.141.207, 142.251.2.207, 74.125.137.207, ...\n",
            "Connecting to storage.googleapis.com (storage.googleapis.com)|142.250.141.207|:443... connected.\n",
            "HTTP request sent, awaiting response... 200 OK\n",
            "Length: 5643545 (5.4M) [application/json]\n",
            "Saving to: ‘sarcasm.json’\n",
            "\n",
            "sarcasm.json        100%[===================>]   5.38M  --.-KB/s    in 0.1s    \n",
            "\n",
            "2024-07-17 02:32:27 (41.4 MB/s) - ‘sarcasm.json’ saved [5643545/5643545]\n",
            "\n"
          ]
        }
      ],
      "source": [
        "# Download the dataset\n",
        "!wget https://storage.googleapis.com/tensorflow-1-public/course3/sarcasm.json"
      ]
    },
    {
      "cell_type": "code",
      "execution_count": null,
      "metadata": {
        "id": "oaLaaqhNkUPd"
      },
      "outputs": [],
      "source": [
        "import json\n",
        "\n",
        "# Load the JSON file\n",
        "with open(\"./sarcasm.json\", 'r') as f:\n",
        "    datastore = json.load(f)\n",
        "\n",
        "# Initialize the lists\n",
        "sentences = []\n",
        "labels = []\n",
        "\n",
        "# Collect sentences and labels into the lists\n",
        "for item in datastore:\n",
        "    sentences.append(item['headline'])\n",
        "    labels.append(item['is_sarcastic'])"
      ]
    },
    {
      "cell_type": "markdown",
      "metadata": {
        "id": "kw1I6oNSfCxa"
      },
      "source": [
        "## Hyperparameters\n",
        "\n",
        "We placed the hyperparameters in the cell below so you can easily tweak it later:"
      ]
    },
    {
      "cell_type": "code",
      "execution_count": null,
      "metadata": {
        "id": "wpF4x5olfHX-"
      },
      "outputs": [],
      "source": [
        "# Number of examples to use for training\n",
        "training_size = 20000\n",
        "\n",
        "# Vocabulary size of the tokenizer\n",
        "vocab_size = 10000\n",
        "\n",
        "# Maximum length of the padded sequences\n",
        "max_length = 32\n",
        "\n",
        "# Output dimensions of the Embedding layer\n",
        "embedding_dim = 16"
      ]
    },
    {
      "cell_type": "markdown",
      "metadata": {
        "id": "dHibcDI0H5Zj"
      },
      "source": [
        "## Split the dataset\n",
        "\n",
        "Next, you will generate your train and test datasets. You will use the `training_size` value you set above to slice the `sentences` and `labels` lists into two sublists: one fore training and another for testing."
      ]
    },
    {
      "cell_type": "code",
      "execution_count": null,
      "metadata": {
        "id": "S1sD-7v0kYWk"
      },
      "outputs": [],
      "source": [
        "# Split the sentences\n",
        "training_sentences = sentences[0:training_size]\n",
        "testing_sentences = sentences[training_size:]\n",
        "\n",
        "# Split the labels\n",
        "training_labels = labels[0:training_size]\n",
        "testing_labels = labels[training_size:]"
      ]
    },
    {
      "cell_type": "markdown",
      "metadata": {
        "id": "qciTzNR7IHzJ"
      },
      "source": [
        "## Preprocessing the train and test sets\n",
        "\n",
        "Now you can preprocess the text and labels so it can be consumed by the model. You use the `Tokenizer` class to create the vocabulary and the `pad_sequences` method to generate padded token sequences. You will also need to set the labels to a numpy array so it can be a valid data type for `model.fit()`."
      ]
    },
    {
      "cell_type": "code",
      "execution_count": null,
      "metadata": {
        "id": "3u8UB0MCkZ5N"
      },
      "outputs": [],
      "source": [
        "import numpy as np\n",
        "from tensorflow.keras.preprocessing.text import Tokenizer\n",
        "from tensorflow.keras.preprocessing.sequence import pad_sequences\n",
        "\n",
        "# Parameters for padding and OOV tokens\n",
        "trunc_type='post'\n",
        "padding_type='post'\n",
        "oov_tok = \"<OOV>\"\n",
        "\n",
        "# Initialize the Tokenizer class\n",
        "tokenizer = Tokenizer(num_words=vocab_size, oov_token=oov_tok)\n",
        "\n",
        "# Generate the word index dictionary\n",
        "tokenizer.fit_on_texts(training_sentences)\n",
        "word_index = tokenizer.word_index\n",
        "\n",
        "# Generate and pad the training sequences\n",
        "training_sequences = tokenizer.texts_to_sequences(training_sentences)\n",
        "training_padded = pad_sequences(training_sequences, maxlen=max_length, padding=padding_type, truncating=trunc_type)\n",
        "\n",
        "# Generate and pad the testing sequences\n",
        "testing_sequences = tokenizer.texts_to_sequences(testing_sentences)\n",
        "testing_padded = pad_sequences(testing_sequences, maxlen=max_length, padding=padding_type, truncating=trunc_type)\n",
        "\n",
        "# Convert the labels lists into numpy arrays\n",
        "training_labels = np.array(training_labels)\n",
        "testing_labels = np.array(testing_labels)"
      ]
    },
    {
      "cell_type": "markdown",
      "metadata": {
        "id": "AMF4afx2IdHo"
      },
      "source": [
        "## Build and Compile the Model\n",
        "\n",
        "Next, you will build the model. The architecture is similar to the previous lab but you will use a [GlobalAveragePooling1D](https://www.tensorflow.org/api_docs/python/tf/keras/layers/GlobalAveragePooling1D) layer instead of `Flatten` after the Embedding. This adds the task of averaging over the sequence dimension before connecting to the dense layers. See a short demo of how this works using the snippet below. Notice that it gets the average over 3 arrays (i.e. `(10 + 1 + 1) / 3` and `(2 + 3 + 1) / 3` to arrive at the final output."
      ]
    },
    {
      "cell_type": "code",
      "execution_count": null,
      "metadata": {
        "id": "7KDCvSc0kFOz",
        "colab": {
          "base_uri": "https://localhost:8080/"
        },
        "outputId": "ce18ad03-bd7c-4006-9b51-c0593a8dbb0e"
      },
      "outputs": [
        {
          "output_type": "stream",
          "name": "stdout",
          "text": [
            "shape of sample_array = (1, 3, 2)\n",
            "sample array: [[[10  2]\n",
            "  [ 1  3]\n",
            "  [ 1  1]]]\n",
            "output shape of gap1d_layer: (1, 2)\n",
            "output array of gap1d_layer: [[4 2]]\n"
          ]
        }
      ],
      "source": [
        "import tensorflow as tf\n",
        "\n",
        "# Initialize a GlobalAveragePooling1D (GAP1D) layer\n",
        "gap1d_layer = tf.keras.layers.GlobalAveragePooling1D()\n",
        "\n",
        "# Define sample array\n",
        "sample_array = np.array([[[10,2],[1,3],[1,1]]])\n",
        "\n",
        "# Print shape and contents of sample array\n",
        "print(f'shape of sample_array = {sample_array.shape}')\n",
        "print(f'sample array: {sample_array}')\n",
        "\n",
        "# Pass the sample array to the GAP1D layer\n",
        "output = gap1d_layer(sample_array)\n",
        "\n",
        "# Print shape and contents of the GAP1D output array\n",
        "print(f'output shape of gap1d_layer: {output.shape}')\n",
        "print(f'output array of gap1d_layer: {output.numpy()}')"
      ]
    },
    {
      "cell_type": "markdown",
      "metadata": {
        "id": "evlU_kqOshc4"
      },
      "source": [
        "This added computation reduces the dimensionality of the model as compared to using `Flatten()` and thus, the number of training parameters will also decrease. See the output of `model.summary()` below and see how it compares if you swap out the pooling layer with a simple `Flatten()`."
      ]
    },
    {
      "cell_type": "code",
      "execution_count": null,
      "metadata": {
        "id": "FufaT4vlkiDE",
        "colab": {
          "base_uri": "https://localhost:8080/"
        },
        "outputId": "f9402700-9fef-4c00-adab-842bbd8be07b"
      },
      "outputs": [
        {
          "output_type": "stream",
          "name": "stdout",
          "text": [
            "Model: \"sequential\"\n",
            "_________________________________________________________________\n",
            " Layer (type)                Output Shape              Param #   \n",
            "=================================================================\n",
            " embedding (Embedding)       (None, 32, 16)            160000    \n",
            "                                                                 \n",
            " global_average_pooling1d_1  (None, 16)                0         \n",
            "  (GlobalAveragePooling1D)                                       \n",
            "                                                                 \n",
            " dense (Dense)               (None, 24)                408       \n",
            "                                                                 \n",
            " dense_1 (Dense)             (None, 1)                 25        \n",
            "                                                                 \n",
            "=================================================================\n",
            "Total params: 160433 (626.69 KB)\n",
            "Trainable params: 160433 (626.69 KB)\n",
            "Non-trainable params: 0 (0.00 Byte)\n",
            "_________________________________________________________________\n"
          ]
        }
      ],
      "source": [
        "# Build the model\n",
        "model = tf.keras.Sequential([\n",
        "    tf.keras.layers.Embedding(vocab_size, embedding_dim, input_length=max_length),\n",
        "    tf.keras.layers.GlobalAveragePooling1D(),\n",
        "    tf.keras.layers.Dense(24, activation='relu'),\n",
        "    tf.keras.layers.Dense(1, activation='sigmoid')\n",
        "])\n",
        "\n",
        "# Print the model summary\n",
        "model.summary()"
      ]
    },
    {
      "cell_type": "markdown",
      "metadata": {
        "id": "GMxT5NzKtRgr"
      },
      "source": [
        "You will use the same loss, optimizer, and metrics from the previous lab."
      ]
    },
    {
      "cell_type": "code",
      "execution_count": null,
      "metadata": {
        "id": "XfDt1hmYkiys"
      },
      "outputs": [],
      "source": [
        "# Compile the model\n",
        "model.compile(loss='binary_crossentropy',optimizer='adam',metrics=['accuracy'])"
      ]
    },
    {
      "cell_type": "markdown",
      "metadata": {
        "id": "Axtd-WQAJIUK"
      },
      "source": [
        "## Train the Model\n",
        "\n",
        "Now you will feed in the prepared datasets to train the model. If you used the default hyperparameters, you will get around 99% training accuracy and 80% validation accuracy.\n",
        "\n",
        "*Tip: You can set the `verbose` parameter of `model.fit()` to `2` to indicate that you want to print just the results per epoch. Setting it to `1` (default) displays a progress bar per epoch, while `0` silences all displays. It doesn't matter much in this Colab but when working in a production environment, you may want to set this to `2` as recommended in the [documentation](https://keras.io/api/models/model_training_apis/#fit-method).*"
      ]
    },
    {
      "cell_type": "code",
      "execution_count": null,
      "metadata": {
        "id": "2DTKQFf1kkyc",
        "colab": {
          "base_uri": "https://localhost:8080/"
        },
        "outputId": "036cf2a7-b2e0-410c-fd27-86686c7fdb6c"
      },
      "outputs": [
        {
          "output_type": "stream",
          "name": "stdout",
          "text": [
            "Epoch 1/30\n",
            "625/625 - 17s - loss: 0.5633 - accuracy: 0.7026 - val_loss: 0.4062 - val_accuracy: 0.8216 - 17s/epoch - 27ms/step\n",
            "Epoch 2/30\n",
            "625/625 - 4s - loss: 0.3129 - accuracy: 0.8736 - val_loss: 0.3465 - val_accuracy: 0.8523 - 4s/epoch - 6ms/step\n",
            "Epoch 3/30\n",
            "625/625 - 2s - loss: 0.2341 - accuracy: 0.9071 - val_loss: 0.3446 - val_accuracy: 0.8533 - 2s/epoch - 4ms/step\n",
            "Epoch 4/30\n",
            "625/625 - 3s - loss: 0.1883 - accuracy: 0.9279 - val_loss: 0.3618 - val_accuracy: 0.8560 - 3s/epoch - 4ms/step\n",
            "Epoch 5/30\n",
            "625/625 - 3s - loss: 0.1568 - accuracy: 0.9418 - val_loss: 0.3961 - val_accuracy: 0.8454 - 3s/epoch - 4ms/step\n",
            "Epoch 6/30\n",
            "625/625 - 3s - loss: 0.1318 - accuracy: 0.9524 - val_loss: 0.4259 - val_accuracy: 0.8489 - 3s/epoch - 4ms/step\n",
            "Epoch 7/30\n",
            "625/625 - 2s - loss: 0.1129 - accuracy: 0.9605 - val_loss: 0.4654 - val_accuracy: 0.8439 - 2s/epoch - 4ms/step\n",
            "Epoch 8/30\n",
            "625/625 - 2s - loss: 0.0971 - accuracy: 0.9672 - val_loss: 0.5053 - val_accuracy: 0.8390 - 2s/epoch - 4ms/step\n",
            "Epoch 9/30\n",
            "625/625 - 2s - loss: 0.0856 - accuracy: 0.9721 - val_loss: 0.5529 - val_accuracy: 0.8341 - 2s/epoch - 4ms/step\n",
            "Epoch 10/30\n",
            "625/625 - 2s - loss: 0.0732 - accuracy: 0.9761 - val_loss: 0.6153 - val_accuracy: 0.8314 - 2s/epoch - 3ms/step\n",
            "Epoch 11/30\n",
            "625/625 - 3s - loss: 0.0632 - accuracy: 0.9798 - val_loss: 0.6577 - val_accuracy: 0.8286 - 3s/epoch - 4ms/step\n",
            "Epoch 12/30\n",
            "625/625 - 3s - loss: 0.0552 - accuracy: 0.9830 - val_loss: 0.7148 - val_accuracy: 0.8228 - 3s/epoch - 4ms/step\n",
            "Epoch 13/30\n",
            "625/625 - 2s - loss: 0.0487 - accuracy: 0.9858 - val_loss: 0.7741 - val_accuracy: 0.8225 - 2s/epoch - 3ms/step\n",
            "Epoch 14/30\n",
            "625/625 - 2s - loss: 0.0427 - accuracy: 0.9875 - val_loss: 0.8279 - val_accuracy: 0.8202 - 2s/epoch - 4ms/step\n",
            "Epoch 15/30\n",
            "625/625 - 3s - loss: 0.0379 - accuracy: 0.9893 - val_loss: 0.9017 - val_accuracy: 0.8161 - 3s/epoch - 4ms/step\n",
            "Epoch 16/30\n",
            "625/625 - 2s - loss: 0.0336 - accuracy: 0.9900 - val_loss: 0.9492 - val_accuracy: 0.8120 - 2s/epoch - 4ms/step\n",
            "Epoch 17/30\n",
            "625/625 - 3s - loss: 0.0282 - accuracy: 0.9922 - val_loss: 1.0384 - val_accuracy: 0.8132 - 3s/epoch - 4ms/step\n",
            "Epoch 18/30\n",
            "625/625 - 2s - loss: 0.0252 - accuracy: 0.9930 - val_loss: 1.0835 - val_accuracy: 0.8107 - 2s/epoch - 4ms/step\n",
            "Epoch 19/30\n",
            "625/625 - 2s - loss: 0.0222 - accuracy: 0.9937 - val_loss: 1.1639 - val_accuracy: 0.8113 - 2s/epoch - 3ms/step\n",
            "Epoch 20/30\n",
            "625/625 - 2s - loss: 0.0200 - accuracy: 0.9944 - val_loss: 1.2145 - val_accuracy: 0.8095 - 2s/epoch - 3ms/step\n",
            "Epoch 21/30\n",
            "625/625 - 2s - loss: 0.0185 - accuracy: 0.9950 - val_loss: 1.2883 - val_accuracy: 0.8092 - 2s/epoch - 4ms/step\n",
            "Epoch 22/30\n",
            "625/625 - 3s - loss: 0.0154 - accuracy: 0.9959 - val_loss: 1.3412 - val_accuracy: 0.8092 - 3s/epoch - 4ms/step\n",
            "Epoch 23/30\n",
            "625/625 - 2s - loss: 0.0147 - accuracy: 0.9961 - val_loss: 1.3837 - val_accuracy: 0.8082 - 2s/epoch - 4ms/step\n",
            "Epoch 24/30\n",
            "625/625 - 2s - loss: 0.0134 - accuracy: 0.9966 - val_loss: 1.4251 - val_accuracy: 0.8053 - 2s/epoch - 3ms/step\n",
            "Epoch 25/30\n",
            "625/625 - 2s - loss: 0.0120 - accuracy: 0.9971 - val_loss: 1.4991 - val_accuracy: 0.8022 - 2s/epoch - 4ms/step\n",
            "Epoch 26/30\n",
            "625/625 - 2s - loss: 0.0112 - accuracy: 0.9966 - val_loss: 1.5515 - val_accuracy: 0.8052 - 2s/epoch - 3ms/step\n",
            "Epoch 27/30\n",
            "625/625 - 2s - loss: 0.0107 - accuracy: 0.9969 - val_loss: 1.6210 - val_accuracy: 0.8064 - 2s/epoch - 4ms/step\n",
            "Epoch 28/30\n",
            "625/625 - 2s - loss: 0.0087 - accuracy: 0.9974 - val_loss: 1.6598 - val_accuracy: 0.8027 - 2s/epoch - 4ms/step\n",
            "Epoch 29/30\n",
            "625/625 - 2s - loss: 0.0073 - accuracy: 0.9984 - val_loss: 1.8048 - val_accuracy: 0.8022 - 2s/epoch - 3ms/step\n",
            "Epoch 30/30\n",
            "625/625 - 2s - loss: 0.0092 - accuracy: 0.9969 - val_loss: 1.8761 - val_accuracy: 0.8027 - 2s/epoch - 4ms/step\n"
          ]
        }
      ],
      "source": [
        "num_epochs = 30\n",
        "\n",
        "# Train the model\n",
        "history = model.fit(training_padded, training_labels, epochs=num_epochs, validation_data=(testing_padded, testing_labels), verbose=2)"
      ]
    },
    {
      "cell_type": "markdown",
      "metadata": {
        "id": "L_bWhGOSJLLm"
      },
      "source": [
        "## Visualize the Results\n",
        "\n",
        "You can use the cell below to plot the training results. You may notice some overfitting because your validation accuracy is slowly dropping while the training accuracy is still going up. See if you can improve it by tweaking the hyperparameters. Some example values are shown in the lectures."
      ]
    },
    {
      "cell_type": "code",
      "execution_count": null,
      "metadata": {
        "id": "2HYfBKXjkmU8",
        "colab": {
          "base_uri": "https://localhost:8080/",
          "height": 881
        },
        "outputId": "f3976583-b75c-4ef9-bce7-5bc70a621753"
      },
      "outputs": [
        {
          "output_type": "display_data",
          "data": {
            "text/plain": [
              "<Figure size 640x480 with 1 Axes>"
            ],
            "image/png": "[encoded data removed]"
          },
          "metadata": {}
        },
        {
          "output_type": "display_data",
          "data": {
            "text/plain": [
              "<Figure size 640x480 with 1 Axes>"
            ],
            "image/png": "[encoded data removed]"
          },
          "metadata": {}
        }
      ],
      "source": [
        "import matplotlib.pyplot as plt\n",
        "\n",
        "# Plot utility\n",
        "def plot_graphs(history, string):\n",
        "  plt.plot(history.history[string])\n",
        "  plt.plot(history.history['val_'+string])\n",
        "  plt.xlabel(\"Epochs\")\n",
        "  plt.ylabel(string)\n",
        "  plt.legend([string, 'val_'+string])\n",
        "  plt.show()\n",
        "\n",
        "# Plot the accuracy and loss\n",
        "plot_graphs(history, \"accuracy\")\n",
        "plot_graphs(history, \"loss\")"
      ]
    },
    {
      "cell_type": "markdown",
      "metadata": {
        "id": "JN6kaxxcJQgd"
      },
      "source": [
        "## Visualize Word Embeddings\n",
        "\n",
        "As before, you can visualize the final weights of the embeddings using the [Tensorflow Embedding Projector](https://projector.tensorflow.org/)."
      ]
    },
    {
      "cell_type": "code",
      "execution_count": null,
      "metadata": {
        "id": "c9MqihtEkzQ9",
        "colab": {
          "base_uri": "https://localhost:8080/"
        },
        "outputId": "432f222d-0d9c-4ce7-df41-d049ac7410e7"
      },
      "outputs": [
        {
          "output_type": "stream",
          "name": "stdout",
          "text": [
            "(10000, 16)\n"
          ]
        }
      ],
      "source": [
        "# Get the index-word dictionary\n",
        "reverse_word_index = tokenizer.index_word\n",
        "\n",
        "# Get the embedding layer from the model (i.e. first layer)\n",
        "embedding_layer = model.layers[0]\n",
        "\n",
        "# Get the weights of the embedding layer\n",
        "embedding_weights = embedding_layer.get_weights()[0]\n",
        "\n",
        "# Print the shape. Expected is (vocab_size, embedding_dim)\n",
        "print(embedding_weights.shape)\n"
      ]
    },
    {
      "cell_type": "code",
      "execution_count": null,
      "metadata": {
        "id": "LoBXVffknldU"
      },
      "outputs": [],
      "source": [
        "import io\n",
        "\n",
        "# Open writeable files\n",
        "out_v = io.open('vecs.tsv', 'w', encoding='utf-8')\n",
        "out_m = io.open('meta.tsv', 'w', encoding='utf-8')\n",
        "\n",
        "# Initialize the loop. Start counting at `1` because `0` is just for the padding\n",
        "for word_num in range(1, vocab_size):\n",
        "\n",
        "  # Get the word associated at the current index\n",
        "  word_name = reverse_word_index[word_num]\n",
        "\n",
        "  # Get the embedding weights associated with the current index\n",
        "  word_embedding = embedding_weights[word_num]\n",
        "\n",
        "  # Write the word name\n",
        "  out_m.write(word_name + \"\\n\")\n",
        "\n",
        "  # Write the word embedding\n",
        "  out_v.write('\\t'.join([str(x) for x in word_embedding]) + \"\\n\")\n",
        "\n",
        "# Close the files\n",
        "out_v.close()\n",
        "out_m.close()"
      ]
    },
    {
      "cell_type": "code",
      "execution_count": null,
      "metadata": {
        "id": "U4eZ5HtVnnEE",
        "colab": {
          "base_uri": "https://localhost:8080/",
          "height": 17
        },
        "outputId": "9a1c8fe9-dd63-431d-b9fd-bd73e1c364ad"
      },
      "outputs": [
        {
          "output_type": "display_data",
          "data": {
            "text/plain": [
              "<IPython.core.display.Javascript object>"
            ],
            "application/javascript": [
              "\n",
              "    async function download(id, filename, size) {\n",
              "      if (!google.colab.kernel.accessAllowed) {\n",
              "        return;\n",
              "      }\n",
              "      const div = document.createElement('div');\n",
              "      const label = document.createElement('label');\n",
              "      label.textContent = `Downloading \"${filename}\": `;\n",
              "      div.appendChild(label);\n",
              "      const progress = document.createElement('progress');\n",
              "      progress.max = size;\n",
              "      div.appendChild(progress);\n",
              "      document.body.appendChild(div);\n",
              "\n",
              "      const buffers = [];\n",
              "      let downloaded = 0;\n",
              "\n",
              "      const channel = await google.colab.kernel.comms.open(id);\n",
              "      // Send a message to notify the kernel that we're ready.\n",
              "      channel.send({})\n",
              "\n",
              "      for await (const message of channel.messages) {\n",
              "        // Send a message to notify the kernel that we're ready.\n",
              "        channel.send({})\n",
              "        if (message.buffers) {\n",
              "          for (const buffer of message.buffers) {\n",
              "            buffers.push(buffer);\n",
              "            downloaded += buffer.byteLength;\n",
              "            progress.value = downloaded;\n",
              "          }\n",
              "        }\n",
              "      }\n",
              "      const blob = new Blob(buffers, {type: 'application/binary'});\n",
              "      const a = document.createElement('a');\n",
              "      a.href = window.URL.createObjectURL(blob);\n",
              "      a.download = filename;\n",
              "      div.appendChild(a);\n",
              "      a.click();\n",
              "      div.remove();\n",
              "    }\n",
              "  "
            ]
          },
          "metadata": {}
        },
        {
          "output_type": "display_data",
          "data": {
            "text/plain": [
              "<IPython.core.display.Javascript object>"
            ],
            "application/javascript": [
              "download(\"download_d0498f11-8944-4d66-b616-cd3f6498a234\", \"vecs.tsv\", 1843644)"
            ]
          },
          "metadata": {}
        },
        {
          "output_type": "display_data",
          "data": {
            "text/plain": [
              "<IPython.core.display.Javascript object>"
            ],
            "application/javascript": [
              "\n",
              "    async function download(id, filename, size) {\n",
              "      if (!google.colab.kernel.accessAllowed) {\n",
              "        return;\n",
              "      }\n",
              "      const div = document.createElement('div');\n",
              "      const label = document.createElement('label');\n",
              "      label.textContent = `Downloading \"${filename}\": `;\n",
              "      div.appendChild(label);\n",
              "      const progress = document.createElement('progress');\n",
              "      progress.max = size;\n",
              "      div.appendChild(progress);\n",
              "      document.body.appendChild(div);\n",
              "\n",
              "      const buffers = [];\n",
              "      let downloaded = 0;\n",
              "\n",
              "      const channel = await google.colab.kernel.comms.open(id);\n",
              "      // Send a message to notify the kernel that we're ready.\n",
              "      channel.send({})\n",
              "\n",
              "      for await (const message of channel.messages) {\n",
              "        // Send a message to notify the kernel that we're ready.\n",
              "        channel.send({})\n",
              "        if (message.buffers) {\n",
              "          for (const buffer of message.buffers) {\n",
              "            buffers.push(buffer);\n",
              "            downloaded += buffer.byteLength;\n",
              "            progress.value = downloaded;\n",
              "          }\n",
              "        }\n",
              "      }\n",
              "      const blob = new Blob(buffers, {type: 'application/binary'});\n",
              "      const a = document.createElement('a');\n",
              "      a.href = window.URL.createObjectURL(blob);\n",
              "      a.download = filename;\n",
              "      div.appendChild(a);\n",
              "      a.click();\n",
              "      div.remove();\n",
              "    }\n",
              "  "
            ]
          },
          "metadata": {}
        },
        {
          "output_type": "display_data",
          "data": {
            "text/plain": [
              "<IPython.core.display.Javascript object>"
            ],
            "application/javascript": [
              "download(\"download_003b0210-f574-4ffa-97b9-2b86095a1c5f\", \"meta.tsv\", 75974)"
            ]
          },
          "metadata": {}
        }
      ],
      "source": [
        "# Import files utilities in Colab\n",
        "try:\n",
        "  from google.colab import files\n",
        "except ImportError:\n",
        "  pass\n",
        "\n",
        "# Download the files\n",
        "else:\n",
        "  files.download('vecs.tsv')\n",
        "  files.download('meta.tsv')"
      ]
    },
    {
      "cell_type": "markdown",
      "metadata": {
        "id": "1GierJvdJWMt"
      },
      "source": [
        "## Wrap Up\n",
        "\n",
        "In this lab, you were able to build a binary classifier to detect sarcasm. You saw some overfitting in the initial attempt and hopefully, you were able to arrive at a better set of hyperparameters.\n",
        "\n",
        "So far, you've been tokenizing datasets from scratch and you're treating the vocab size as a hyperparameter. Furthermore, you're tokenizing the texts by building a vocabulary of full words. In the next lab, you will make use of a pre-tokenized dataset that uses a vocabulary of *subwords*. For instance, instead of having a uniqe token for the word `Tensorflow`, it will instead have a token each for `Ten`, `sor`, and `flow`. You will see the motivation and implications of having this design in the next exercise. See you there!"
      ]
    }
  ],
  "metadata": {
    "colab": {
      "provenance": [],
      "gpuType": "T4"
    },
    "kernelspec": {
      "display_name": "Python 3",
      "name": "python3"
    },
    "language_info": {
      "codemirror_mode": {
        "name": "ipython",
        "version": 3
      },
      "file_extension": ".py",
      "mimetype": "text/x-python",
      "name": "python",
      "nbconvert_exporter": "python",
      "pygments_lexer": "ipython3",
      "version": "3.7.4"
    },
    "accelerator": "GPU"
  },
  "nbformat": 4,
  "nbformat_minor": 0
}