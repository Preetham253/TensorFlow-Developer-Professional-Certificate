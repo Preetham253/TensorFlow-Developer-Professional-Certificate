{
  "nbformat": 4,
  "nbformat_minor": 0,
  "metadata": {
    "colab": {
      "provenance": [],
      "gpuType": "T4",
      "authorship_tag": "ABX9TyNg8TKQ4c3uoJs9RYnZDPMM",
      "include_colab_link": true
    },
    "kernelspec": {
      "name": "python3",
      "display_name": "Python 3"
    },
    "language_info": {
      "name": "python"
    },
    "accelerator": "GPU"
  },
  "cells": [
    {
      "cell_type": "markdown",
      "metadata": {
        "id": "view-in-github",
        "colab_type": "text"
      },
      "source": [
        "<a href=\"https://colab.research.google.com/github/Preetham253/Introduction-to-Tensorflow-from-Coursera/blob/main/Basic_MNIST_Classification.ipynb\" target=\"_parent\"><img src=\"https://colab.research.google.com/assets/colab-badge.svg\" alt=\"Open In Colab\"/></a>"
      ]
    },
    {
      "cell_type": "code",
      "execution_count": 1,
      "metadata": {
        "colab": {
          "base_uri": "https://localhost:8080/"
        },
        "id": "P-GCXLlO5XU8",
        "outputId": "ec5368fc-b568-4c76-b1d0-f3c661f46a0f"
      },
      "outputs": [
        {
          "output_type": "stream",
          "name": "stdout",
          "text": [
            "2.15.0\n"
          ]
        }
      ],
      "source": [
        "import tensorflow as tf\n",
        "print(tf.__version__)"
      ]
    },
    {
      "cell_type": "markdown",
      "source": [
        "\n",
        "The Fashion MNIST dataset is a collection of grayscale 28x28 pixel clothing images. Each image is associated with a label as shown in this table⁉\n",
        "\n",
        "Label\tDescription\n",
        "0\tT-shirt/top\n",
        "1\tTrouser\n",
        "2\tPullover\n",
        "3\tDress\n",
        "4\tCoat\n",
        "5\tSandal\n",
        "6\tShirt\n",
        "7\tSneaker\n",
        "8\tBag\n",
        "9\tAnkle boot\n",
        "This dataset is available directly in the tf.keras.datasets API and you load it like this:"
      ],
      "metadata": {
        "id": "gYx3rf7S8Rjv"
      }
    },
    {
      "cell_type": "code",
      "source": [
        "#Load the Fashion MNIST dataset\n",
        "fashion = tf.keras.datasets.fashion_mnist"
      ],
      "metadata": {
        "id": "WfH0PWwp8BQl"
      },
      "execution_count": 2,
      "outputs": []
    },
    {
      "cell_type": "code",
      "source": [
        "#Load the training and testing split of the Fashion MNIST dataset\n",
        "(train_images, train_labels), (test_images, test_labels) = fashion.load_data()"
      ],
      "metadata": {
        "colab": {
          "base_uri": "https://localhost:8080/"
        },
        "id": "7MF8sw7z8nPT",
        "outputId": "dcd02442-7b9c-4bd5-9f6f-6dfbff33d2fe"
      },
      "execution_count": 3,
      "outputs": [
        {
          "output_type": "stream",
          "name": "stdout",
          "text": [
            "Downloading data from https://storage.googleapis.com/tensorflow/tf-keras-datasets/train-labels-idx1-ubyte.gz\n",
            "29515/29515 [==============================] - 0s 0us/step\n",
            "Downloading data from https://storage.googleapis.com/tensorflow/tf-keras-datasets/train-images-idx3-ubyte.gz\n",
            "26421880/26421880 [==============================] - 2s 0us/step\n",
            "Downloading data from https://storage.googleapis.com/tensorflow/tf-keras-datasets/t10k-labels-idx1-ubyte.gz\n",
            "5148/5148 [==============================] - 0s 0us/step\n",
            "Downloading data from https://storage.googleapis.com/tensorflow/tf-keras-datasets/t10k-images-idx3-ubyte.gz\n",
            "4422102/4422102 [==============================] - 1s 0us/step\n"
          ]
        }
      ]
    },
    {
      "cell_type": "code",
      "source": [
        "#Analyse the image and the corresponding label\n",
        "import numpy as np\n",
        "import matplotlib.pyplot as plt\n",
        "#set the index of the image\n",
        "index = 891\n",
        "#set number of characters per row when printing\n",
        "np.set_printoptions(linewidth=320)\n",
        "#print the label and image\n",
        "print(f'Label: {train_labels[index]}')\n",
        "print(f'\\nImage Pixel Array:\\n {train_images[index]}')\n",
        "#Visualize the image\n",
        "plt.imshow(train_images[index])"
      ],
      "metadata": {
        "colab": {
          "base_uri": "https://localhost:8080/",
          "height": 985
        },
        "id": "u1HN7JGN84yi",
        "outputId": "a2d48b76-f3cf-4c02-c419-a7708d2b89af"
      },
      "execution_count": 5,
      "outputs": [
        {
          "output_type": "stream",
          "name": "stdout",
          "text": [
            "Label: 2\n",
            "\n",
            "Image Pixel Array:\n",
            " [[  0   0   0   0   0   0   0   0   0   0   0 145 116  14   9   7  85  51   0   0   0   2   1   0   0   0   0   0]\n",
            " [  0   0   0   0   0   0   0   0  41 135 242 242 250 255 251 243 251 232 165  49   0   0   0   0   0   0   0   0]\n",
            " [  0   0   0   0   1   0   6 196 247 252 238 229 232 231 232 236 231 233 248 246 217  85   0   0   0   0   0   0]\n",
            " [  0   0   0   0   0   0 187 253 226 230 232 233 232 231 233 233 231 234 227 228 239 251  53   0   0   0   0   0]\n",
            " [  0   0   0   0   0  11 235 229 233 231 234 233 233 234 232 231 231 230 233 231 225 246 175   0   0   0   0   0]\n",
            " [  0   0   0   0   0  55 247 230 236 234 232 233 233 232 233 232 234 231 231 231 230 243 207   0   0   0   0   0]\n",
            " [  0   0   0   0   0 101 250 230 240 232 229 232 229 228 230 228 227 228 229 226 235 238 243   0   0   0   0   0]\n",
            " [  0   0   0   0   0 164 249 232 246 233 229 230 223 227 229 228 227 227 228 230 236 233 255   0   0   0   0   0]\n",
            " [  0   0   0   0   0 196 245 233 250 233 230 231 223 227 228 227 227 226 226 242 243 231 255   0   0   0   0   0]\n",
            " [  0   0   0   0   0 218 242 234 247 232 228 229 227 227 226 228 228 227 222 237 245 230 255  18   0   0   0   0]\n",
            " [  0   0   0   0   0 247 238 235 242 234 230 231 228 229 229 231 231 231 224 234 242 229 255  51   0   0   0   0]\n",
            " [  0   0   0   0   0 225 234 236 252 233 229 229 226 228 228 230 230 228 225 240 248 227 255  81   0   0   0   0]\n",
            " [  0   0   0   0   0 231 233 237 228 245 227 227 227 227 227 229 230 227 232 251 240 228 255  96   0   0   0   0]\n",
            " [  0   0   0   0   5 233 233 240  68 255 226 227 227 227 228 229 232 221 255 140 174 240 243 107   0   0   0   0]\n",
            " [  0   0   0   0  29 239 233 248  17 255 225 226 225 227 228 230 230 215 255  59 150 255 241 112   0   0   0   0]\n",
            " [  0   0   0   0  70 241 236 221  66 255 220 227 226 227 228 229 233 219 255  88 139 255 240 129   0   0   0   0]\n",
            " [  0   0   0   0 102 242 240 171  79 255 218 228 227 227 228 229 232 222 255 133 129 255 237 158   0   0   0   0]\n",
            " [  0   0   0   0 110 239 245 137 118 255 217 228 227 227 228 229 231 225 254 181 102 255 236 167   0   0   0   0]\n",
            " [  0   0   0   0 141 238 255 122 180 255 220 228 227 227 228 229 232 226 245 208  74 255 241 182   0   0   0   0]\n",
            " [  0   0   0   0 165 235 255  84 206 248 224 228 228 229 230 230 231 229 235 229  64 255 239 200   0   0   0   0]\n",
            " [  0   0   0   0 172 235 255  54 225 245 226 229 228 229 229 230 231 230 232 249  64 255 238 197   0   0   0   0]\n",
            " [  0   0   0   0 181 235 255  11 234 235 228 231 230 230 230 231 231 231 233 253  37 255 234 201   0   0   0   0]\n",
            " [  0   0   0   0 186 235 255   0 191 238 223 226 227 226 225 226 227 227 235 212   0 255 234 199   0   0   0   0]\n",
            " [  0   0   0   0 185 238 253   0 255 255 246 248 247 246 245 246 247 244 255 252   0 253 237 193   0   0   0   0]\n",
            " [  0   0   0   0 198 240 245   0  92 126 136 143 146 156 161 160 162 158 175 152   0 250 240 189   0   0   0   0]\n",
            " [  0   0   0   0 185 242 187   0   0   0   0   0   0   0   0   0   0   0   0   0   0 229 242 182   0   0   0   0]\n",
            " [  0   0   0   0 179 255 205   0   0   3   2   3   2   2   2   2   2   2   3   0   0 221 255 155   0   0   0   0]\n",
            " [  0   0   0   0  43 110  66   0   0   0   0   0   0   0   0   0   0   0   0   0   0 128 180  88   0   0   0   0]]\n"
          ]
        },
        {
          "output_type": "execute_result",
          "data": {
            "text/plain": [
              "<matplotlib.image.AxesImage at 0x7850691d5150>"
            ]
          },
          "metadata": {},
          "execution_count": 5
        },
        {
          "output_type": "display_data",
          "data": {
            "text/plain": [
              "<Figure size 640x480 with 1 Axes>"
            ],
            "image/png": "[encoded data removed]"
          },
          "metadata": {}
        }
      ]
    },
    {
      "cell_type": "markdown",
      "source": [
        "All of the values in the number are between 0 and 255. If you are training a neural network especially in image processing, for various reasons it will usually learn better if you scale all values to between 0 and 1. It's a process called normalization."
      ],
      "metadata": {
        "id": "fLmJM0_T-C1j"
      }
    },
    {
      "cell_type": "code",
      "source": [
        "#Normalize the pixel values of the train and test images\n",
        "train_images = train_images / 255.0\n",
        "test_images = test_images / 255.0"
      ],
      "metadata": {
        "id": "_5yXSs_I9hxL"
      },
      "execution_count": 6,
      "outputs": []
    },
    {
      "cell_type": "code",
      "source": [
        "#Build the image classification model\n",
        "model = tf.keras.Sequential([tf.keras.layers.Flatten(),\n",
        "                             tf.keras.layers.Dense(128, activation=tf.nn.relu),\n",
        "                             tf.keras.layers.Dense(10, activation=tf.nn.softmax)])"
      ],
      "metadata": {
        "id": "8QoO2b1B-XNw"
      },
      "execution_count": 7,
      "outputs": []
    },
    {
      "cell_type": "markdown",
      "source": [
        "Sequential: That defines a sequence of layers in the neural network."
      ],
      "metadata": {
        "id": "udfdkSSd_fkO"
      }
    },
    {
      "cell_type": "markdown",
      "source": [
        "Flatten: Remember earlier where our images were a 28x28 pixel matrix when you printed them out? Flatten just takes that square and turns it into a 1-dimensional array."
      ],
      "metadata": {
        "id": "5ozwlsqo_l1g"
      }
    },
    {
      "cell_type": "markdown",
      "source": [
        "Dense: Adds a layer of neurons\n",
        "Each layer of neurons need an activation function to tell them what to do. There are a lot of options, but just use these for now:\n",
        "\n",
        "ReLU effectively means:\n",
        "\n",
        "if x > 0:\n",
        "  return x\n",
        "\n",
        "else:\n",
        "  return 0\n",
        "In other words, it only passes values greater than 0 to the next layer in the network."
      ],
      "metadata": {
        "id": "rMzJkAeI_twE"
      }
    },
    {
      "cell_type": "markdown",
      "source": [
        "Softmax takes a list of values and scales these so the sum of all elements will be equal to 1. When applied to model outputs, you can think of the scaled values as the probability for that class. For example, in your classification model which has 10 units in the output dense layer, having the highest value at index = 4 means that the model is most confident that the input clothing image is a coat. If it is at index = 5, then it is a sandal, and so forth."
      ],
      "metadata": {
        "id": "NO_dbSir_5xe"
      }
    },
    {
      "cell_type": "code",
      "source": [
        "# Declare sample inputs and convert to a tensor\n",
        "inputs = np.array([[4.0, 7.0, 1.0, 2.0]])\n",
        "inputs = tf.convert_to_tensor(inputs)\n",
        "print(f'input to softmax function: {inputs.numpy()}')\n",
        "\n",
        "# Feed the inputs to a softmax activation function\n",
        "outputs = tf.keras.activations.softmax(inputs)\n",
        "print(f'output of softmax function: {outputs.numpy()}')\n",
        "\n",
        "# Get the sum of all values after the softmax\n",
        "sum = tf.reduce_sum(outputs)\n",
        "print(f'sum of outputs: {sum}')\n",
        "\n",
        "# Get the index with highest value\n",
        "prediction = np.argmax(outputs)\n",
        "print(f'class with highest probability: {prediction}')"
      ],
      "metadata": {
        "colab": {
          "base_uri": "https://localhost:8080/"
        },
        "id": "wEInMqZO_czC",
        "outputId": "10e8ec5b-b947-4557-8a80-b4154e107466"
      },
      "execution_count": 8,
      "outputs": [
        {
          "output_type": "stream",
          "name": "stdout",
          "text": [
            "input to softmax function: [[4. 7. 1. 2.]]\n",
            "output of softmax function: [[0.04701312 0.9442837  0.00234065 0.00636253]]\n",
            "sum of outputs: 1.0\n",
            "class with highest probability: 1\n"
          ]
        }
      ]
    },
    {
      "cell_type": "code",
      "source": [
        "model.compile(optimizer = tf.optimizers.Adam(),\n",
        "              loss = 'sparse_categorical_crossentropy',\n",
        "              metrics=['accuracy'])"
      ],
      "metadata": {
        "id": "8aC0O36WAti8"
      },
      "execution_count": 9,
      "outputs": []
    },
    {
      "cell_type": "code",
      "source": [
        "model.fit(train_images, train_labels, epochs=15)"
      ],
      "metadata": {
        "colab": {
          "base_uri": "https://localhost:8080/"
        },
        "id": "nw-J6j5DBFeL",
        "outputId": "c4555c8a-733b-4b6e-f1db-bcbb02cc7fca"
      },
      "execution_count": 10,
      "outputs": [
        {
          "output_type": "stream",
          "name": "stdout",
          "text": [
            "Epoch 1/15\n",
            "1875/1875 [==============================] - 7s 2ms/step - loss: 0.5009 - accuracy: 0.8260\n",
            "Epoch 2/15\n",
            "1875/1875 [==============================] - 5s 3ms/step - loss: 0.3720 - accuracy: 0.8671\n",
            "Epoch 3/15\n",
            "1875/1875 [==============================] - 5s 2ms/step - loss: 0.3366 - accuracy: 0.8770\n",
            "Epoch 4/15\n",
            "1875/1875 [==============================] - 6s 3ms/step - loss: 0.3116 - accuracy: 0.8857\n",
            "Epoch 5/15\n",
            "1875/1875 [==============================] - 5s 3ms/step - loss: 0.2946 - accuracy: 0.8921\n",
            "Epoch 6/15\n",
            "1875/1875 [==============================] - 5s 2ms/step - loss: 0.2814 - accuracy: 0.8958\n",
            "Epoch 7/15\n",
            "1875/1875 [==============================] - 5s 3ms/step - loss: 0.2691 - accuracy: 0.9002\n",
            "Epoch 8/15\n",
            "1875/1875 [==============================] - 5s 2ms/step - loss: 0.2590 - accuracy: 0.9044\n",
            "Epoch 9/15\n",
            "1875/1875 [==============================] - 5s 3ms/step - loss: 0.2469 - accuracy: 0.9074\n",
            "Epoch 10/15\n",
            "1875/1875 [==============================] - 5s 3ms/step - loss: 0.2402 - accuracy: 0.9104\n",
            "Epoch 11/15\n",
            "1875/1875 [==============================] - 5s 2ms/step - loss: 0.2301 - accuracy: 0.9139\n",
            "Epoch 12/15\n",
            "1875/1875 [==============================] - 5s 3ms/step - loss: 0.2219 - accuracy: 0.9173\n",
            "Epoch 13/15\n",
            "1875/1875 [==============================] - 5s 2ms/step - loss: 0.2173 - accuracy: 0.9188\n",
            "Epoch 14/15\n",
            "1875/1875 [==============================] - 5s 2ms/step - loss: 0.2106 - accuracy: 0.9207\n",
            "Epoch 15/15\n",
            "1875/1875 [==============================] - 5s 3ms/step - loss: 0.2025 - accuracy: 0.9233\n"
          ]
        },
        {
          "output_type": "execute_result",
          "data": {
            "text/plain": [
              "<keras.src.callbacks.History at 0x78506be37be0>"
            ]
          },
          "metadata": {},
          "execution_count": 10
        }
      ]
    },
    {
      "cell_type": "code",
      "source": [
        "#Evaluate the model on unseen data\n",
        "model.evaluate(test_images, test_labels)"
      ],
      "metadata": {
        "colab": {
          "base_uri": "https://localhost:8080/"
        },
        "id": "1PwBu5lVBKUV",
        "outputId": "092b5f8d-697f-4c8a-d497-84adc86518ec"
      },
      "execution_count": 11,
      "outputs": [
        {
          "output_type": "stream",
          "name": "stdout",
          "text": [
            "313/313 [==============================] - 1s 4ms/step - loss: 0.3535 - accuracy: 0.8810\n"
          ]
        },
        {
          "output_type": "execute_result",
          "data": {
            "text/plain": [
              "[0.35347500443458557, 0.8809999823570251]"
            ]
          },
          "metadata": {},
          "execution_count": 11
        }
      ]
    },
    {
      "cell_type": "markdown",
      "source": [
        "The accuracy here to be about 0.88"
      ],
      "metadata": {
        "id": "3_ztPhQAB_0a"
      }
    },
    {
      "cell_type": "code",
      "source": [
        "classifications = model.predict(test_images)\n",
        "print(classifications[0])"
      ],
      "metadata": {
        "colab": {
          "base_uri": "https://localhost:8080/"
        },
        "id": "CKiDrcznBxQs",
        "outputId": "7536fcaf-4e69-45c6-9c3c-336bce0e7d24"
      },
      "execution_count": 12,
      "outputs": [
        {
          "output_type": "stream",
          "name": "stdout",
          "text": [
            "313/313 [==============================] - 1s 3ms/step\n",
            "[7.2873034e-11 9.3906376e-12 6.8441793e-12 8.1665669e-10 4.3612877e-10 2.7218908e-05 3.2903576e-11 2.2113353e-03 2.3781018e-07 9.9776125e-01]\n"
          ]
        }
      ]
    },
    {
      "cell_type": "code",
      "source": [
        "print(test_labels[0])"
      ],
      "metadata": {
        "colab": {
          "base_uri": "https://localhost:8080/"
        },
        "id": "or07glSSCcbt",
        "outputId": "38993800-51d2-4e5d-8acd-21827fe22418"
      },
      "execution_count": 13,
      "outputs": [
        {
          "output_type": "stream",
          "name": "stdout",
          "text": [
            "9\n"
          ]
        }
      ]
    },
    {
      "cell_type": "code",
      "source": [],
      "metadata": {
        "id": "7mq82gWlCn7r"
      },
      "execution_count": null,
      "outputs": []
    }
  ]
}